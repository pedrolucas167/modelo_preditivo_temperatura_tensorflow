{
  "cells": [
    {
      "cell_type": "markdown",
      "metadata": {
        "id": "view-in-github",
        "colab_type": "text"
      },
      "source": [
        "<a href=\"https://colab.research.google.com/github/pedrolucas167/modelo_preditivo_temperatura_tensorflow/blob/main/conversao_celsius_fahrenheit_tensorflow.ipynb\" target=\"_parent\"><img src=\"https://colab.research.google.com/assets/colab-badge.svg\" alt=\"Open In Colab\"/></a>"
      ]
    },
    {
      "cell_type": "markdown",
      "metadata": {
        "id": "EF8lJVZr4jvY"
      },
      "source": [
        "# Modelo Preditivo com Redes Neurais - TensorFlow no Google Colab\n",
        "\n",
        "## Objetivo\n",
        "Criar um modelo preditivo usando redes neurais com TensorFlow para converter temperaturas de Celsius para Fahrenheit.\n",
        "\n",
        "## Introdução\n",
        "Neste projeto, ao invés de utilizar a fórmula conhecida de conversão F = C * 1.8 + 32, utilizaremos Machine Learning para treinar um modelo que aprenda essa relação a partir dos dados.\n"
      ],
      "id": "EF8lJVZr4jvY"
    },
    {
      "cell_type": "code",
      "execution_count": null,
      "metadata": {
        "id": "wWT-CDj54jvd"
      },
      "outputs": [],
      "source": [
        "# Importando bibliotecas necessárias\n",
        "import tensorflow as tf\n",
        "import numpy as np\n",
        "import matplotlib.pyplot as plt\n",
        "import pandas as pd"
      ],
      "id": "wWT-CDj54jvd"
    },
    {
      "cell_type": "markdown",
      "metadata": {
        "id": "JQa2vFKo4jvg"
      },
      "source": [
        "## Dados de Treinamento\n",
        "Os dados utilizados para treinar o modelo são pares de temperaturas conhecidas em Celsius e seus equivalentes em Fahrenheit."
      ],
      "id": "JQa2vFKo4jvg"
    },
    {
      "cell_type": "code",
      "execution_count": null,
      "metadata": {
        "id": "EDeIX_1k4jvh"
      },
      "outputs": [],
      "source": [
        "celsius = np.array([-40, -10, 0, 8, 15, 22, 38], dtype=float)\n",
        "fahrenheit = np.array([-40, 14, 32, 46.4, 59, 71.6, 100], dtype=float)"
      ],
      "id": "EDeIX_1k4jvh"
    },
    {
      "cell_type": "markdown",
      "metadata": {
        "id": "Lknv-BRn4jvi"
      },
      "source": [
        "## Construção do Modelo\n",
        "Criei um modelo sequencial com uma camada densa que tem apenas um neurônio, adequado para um problema simples de regressão como este."
      ],
      "id": "Lknv-BRn4jvi"
    },
    {
      "cell_type": "code",
      "execution_count": null,
      "metadata": {
        "colab": {
          "base_uri": "https://localhost:8080/"
        },
        "id": "iC8n1GtC4jvj",
        "outputId": "c4a461fd-1bb8-48aa-970d-e1b8a2f1f6d5"
      },
      "outputs": [
        {
          "output_type": "stream",
          "name": "stderr",
          "text": [
            "/usr/local/lib/python3.11/dist-packages/keras/src/layers/core/dense.py:87: UserWarning: Do not pass an `input_shape`/`input_dim` argument to a layer. When using Sequential models, prefer using an `Input(shape)` object as the first layer in the model instead.\n",
            "  super().__init__(activity_regularizer=activity_regularizer, **kwargs)\n"
          ]
        }
      ],
      "source": [
        "model = tf.keras.Sequential([\n",
        "    tf.keras.layers.Dense(units=1, input_shape=[1])\n",
        "])\n",
        "\n",
        "model.compile(optimizer=tf.keras.optimizers.Adam(0.1), loss='mean_squared_error')"
      ],
      "id": "iC8n1GtC4jvj"
    },
    {
      "cell_type": "markdown",
      "metadata": {
        "id": "0lV1xSJE4jvk"
      },
      "source": [
        "## Treinamento do Modelo\n",
        "O modelo é treinado por 500 épocas para minimizar o erro entre as previsões e os valores reais."
      ],
      "id": "0lV1xSJE4jvk"
    },
    {
      "cell_type": "code",
      "source": [
        "# Treinamento do modelo\n",
        "history = model.fit(celsius, fahrenheit, epochs=500, verbose=False)\n"
      ],
      "metadata": {
        "id": "1Q8Zb6nU6KVy"
      },
      "id": "1Q8Zb6nU6KVy",
      "execution_count": null,
      "outputs": []
    },
    {
      "cell_type": "markdown",
      "metadata": {
        "id": "UKnPiD2I4jvm"
      },
      "source": [
        "## Estatísticas do Treinamento\n",
        "Abaixo, um gráfico relacionando as épocas de treinamento com o valor da função de perda (loss), que indica o quão bom o modelo está ficando."
      ],
      "id": "UKnPiD2I4jvm"
    },
    {
      "cell_type": "code",
      "execution_count": null,
      "metadata": {
        "colab": {
          "base_uri": "https://localhost:8080/",
          "height": 474
        },
        "id": "E7EPZLyr4jvn",
        "outputId": "7f218aa4-580f-425b-8c39-b8b0f08023b5"
      },
      "outputs": [
        {
          "output_type": "display_data",
          "data": {
            "text/plain": [
              "<Figure size 640x480 with 1 Axes>"
            ],
            "image/png": "[encoded data removed]"
          },
          "metadata": {}
        }
      ],
      "source": [
        "import matplotlib.pyplot as plt\n",
        "\n",
        "\n",
        "%matplotlib inline\n",
        "\n",
        "if 'loss' in history.history:\n",
        "    plt.plot(history.history['loss'])\n",
        "    plt.title('Perda durante o treinamento')\n",
        "    plt.xlabel('Época')\n",
        "    plt.ylabel('Loss')\n",
        "    plt.grid(True)\n",
        "    plt.show()\n",
        "else:\n",
        "    print(\"Histórico de perda ('loss') não encontrado. Verifique o treinamento do modelo.\")\n"
      ],
      "id": "E7EPZLyr4jvn"
    },
    {
      "cell_type": "markdown",
      "metadata": {
        "id": "FaARc26d4jvo"
      },
      "source": [
        "## Teste com Novos Valores\n",
        "Testamos o modelo com 10 novos valores de temperatura em Celsius e comparamos os resultados com os valores reais calculados com a fórmula tradicional."
      ],
      "id": "FaARc26d4jvo"
    },
    {
      "cell_type": "code",
      "execution_count": null,
      "metadata": {
        "colab": {
          "base_uri": "https://localhost:8080/"
        },
        "id": "Bd6gZO0x4jvo",
        "outputId": "1d24c9c6-adac-488f-ebb9-49e95f83ee2d"
      },
      "outputs": [
        {
          "output_type": "stream",
          "name": "stdout",
          "text": [
            "\u001b[1m1/1\u001b[0m \u001b[32m━━━━━━━━━━━━━━━━━━━━\u001b[0m\u001b[37m\u001b[0m \u001b[1m0s\u001b[0m 64ms/step\n",
            "   Celsius  Fahrenheit (Real)  Fahrenheit (Modelo)\n",
            "0    -30.0              -22.0           -26.110001\n",
            "1     -5.0               23.0            19.520000\n",
            "2      5.0               41.0            37.770000\n",
            "3     10.0               50.0            46.889999\n",
            "4     20.0               68.0            65.139999\n",
            "5     25.0               77.0            74.269997\n",
            "6     30.0               86.0            83.400002\n",
            "7     35.0               95.0            92.519997\n",
            "8     40.0              104.0           101.650002\n",
            "9     50.0              122.0           119.900002\n"
          ]
        }
      ],
      "source": [
        "celsius_test = np.array([-30, -5, 5, 10, 20, 25, 30, 35, 40, 50], dtype=float)\n",
        "predicted_fahrenheit = model.predict(celsius_test)\n",
        "real_fahrenheit = celsius_test * 1.8 + 32\n",
        "\n",
        "df = pd.DataFrame({\n",
        "    'Celsius': celsius_test,\n",
        "    'Fahrenheit (Real)': real_fahrenheit,\n",
        "    'Fahrenheit (Modelo)': predicted_fahrenheit.flatten()\n",
        "})\n",
        "\n",
        "print(df.round(2))"
      ],
      "id": "Bd6gZO0x4jvo"
    }
  ],
  "metadata": {
    "kernelspec": {
      "display_name": "Python 3",
      "language": "python",
      "name": "python3"
    },
    "language_info": {
      "name": "python",
      "version": "3.10"
    },
    "colab": {
      "provenance": [],
      "include_colab_link": true
    }
  },
  "nbformat": 4,
  "nbformat_minor": 5
}